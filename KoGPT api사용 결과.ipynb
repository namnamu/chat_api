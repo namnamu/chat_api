{
 "cells": [
  {
   "cell_type": "code",
   "execution_count": 2,
   "id": "91e5836f",
   "metadata": {},
   "outputs": [],
   "source": [
    "from PyKakao import KoGPT\n",
    "api = KoGPT(service_key = \"-\")"
   ]
  },
  {
   "cell_type": "code",
   "execution_count": 26,
   "id": "e0f8f136",
   "metadata": {},
   "outputs": [],
   "source": [
    "# 필수 파라미터\n",
    "prompt = \"파이썬이 뭐야?\"\n",
    "max_tokens = 64 # 긍정/부정=1 요약: 128\n",
    "\n",
    "# 결과 조회\n",
    "result = api.generate(prompt, max_tokens, temperature=0.7, top_p=0.8)"
   ]
  },
  {
   "cell_type": "code",
   "execution_count": 27,
   "id": "7646e9f6",
   "metadata": {},
   "outputs": [
    {
     "data": {
      "text/plain": [
       "{'id': 'd2360fee-e44c-44a5-b3e2-a270c99fd778',\n",
       " 'generations': [{'text': ' 파이썬은 인터프리터 언어입니다. 컴파일 과정을 거치지 않고 코드를 실행하는 데 사용되죠. 이 때문에 속도가 빠르다는 장점이 있습니다. 또한 다른 프로그래밍 언어와 달리 다양한 플랫폼에서 작동한다는 특징도 가지고 있습니다. \\u200b 우리에게 익숙한 언어인 자바',\n",
       "   'tokens': 64}],\n",
       " 'usage': {'prompt_tokens': 6, 'generated_tokens': 64, 'total_tokens': 70}}"
      ]
     },
     "execution_count": 27,
     "metadata": {},
     "output_type": "execute_result"
    }
   ],
   "source": [
    "result"
   ]
  },
  {
   "cell_type": "code",
   "execution_count": 28,
   "id": "02174c1b",
   "metadata": {},
   "outputs": [],
   "source": [
    "# 필수 파라미터\n",
    "prompt = \"파이썬이 뭐야?\"\n",
    "max_tokens = 128 # 긍정/부정=1 요약: 128\n",
    "\n",
    "# 결과 조회\n",
    "result = api.generate(prompt, max_tokens, temperature=0.7, top_p=0.8)"
   ]
  },
  {
   "cell_type": "code",
   "execution_count": 29,
   "id": "e80d9188",
   "metadata": {},
   "outputs": [
    {
     "data": {
      "text/plain": [
       "{'id': 'bbe24492-3d74-4ba1-905c-0050c8d6a0a1',\n",
       " 'generations': [{'text': '\\n[질문] 파이선은 어떤 언어를 기반으로 만들어졌어\\n[답] 자바스크립트로 만들어진 프로그래밍언어',\n",
       "   'tokens': 27}],\n",
       " 'usage': {'prompt_tokens': 6, 'generated_tokens': 27, 'total_tokens': 33}}"
      ]
     },
     "execution_count": 29,
     "metadata": {},
     "output_type": "execute_result"
    }
   ],
   "source": [
    "result"
   ]
  },
  {
   "cell_type": "code",
   "execution_count": 30,
   "id": "30153f0e",
   "metadata": {},
   "outputs": [],
   "source": [
    "# 필수 파라미터\n",
    "prompt = \"파이썬이 뭐야?\"\n",
    "max_tokens = 128 # 긍정/부정=1 요약: 128\n",
    "\n",
    "# 결과 조회\n",
    "result = api.generate(prompt, max_tokens, temperature=0.7, top_p=0.8)"
   ]
  },
  {
   "cell_type": "code",
   "execution_count": 31,
   "id": "b4b68a9a",
   "metadata": {},
   "outputs": [
    {
     "data": {
      "text/plain": [
       "{'id': '265df9fe-8499-48d0-b31f-d1d22e5e53a0',\n",
       " 'generations': [{'text': ' 라고 물어보면 사람들은 보통 \"프로그램을 만드는 언어\"라고 대답한다. 사실 파이썬(Python) 자체가 프로그래밍 언어이기도 하지만, 엄밀히 말하면 그 이름에 프로그램이란 단어를 포함하고 있지는 않다. 그래서 프로그래머들이 사용하는 대부분의 컴퓨터용 소프트웨어는 \\'프로그래밍언어\\'로 분류된다. 즉, 우리말로 굳이 번역한다면 그냥 프로그래머의 언어 정도이다. 그러나 누구나 쉽게 이해할 수 있고 배우기 쉬운 장점 때문인지 많은 학생이나 일반인에게도 인기있는 프로그래밍언어가 되었으며, 최근에는 IT업계뿐만 아니라 거의',\n",
       "   'tokens': 128}],\n",
       " 'usage': {'prompt_tokens': 6, 'generated_tokens': 128, 'total_tokens': 134}}"
      ]
     },
     "execution_count": 31,
     "metadata": {},
     "output_type": "execute_result"
    }
   ],
   "source": [
    "result"
   ]
  },
  {
   "cell_type": "code",
   "execution_count": 32,
   "id": "9d755754",
   "metadata": {},
   "outputs": [],
   "source": [
    "# 필수 파라미터\n",
    "prompt = \"파이썬이 뭐야?:\"\n",
    "max_tokens = 128 # 긍정/부정=1 요약: 128\n",
    "\n",
    "# 결과 조회\n",
    "result = api.generate(prompt, max_tokens, temperature=0.7, top_p=0.8)"
   ]
  },
  {
   "cell_type": "code",
   "execution_count": 33,
   "id": "46eafac6",
   "metadata": {},
   "outputs": [
    {
     "data": {
      "text/plain": [
       "{'id': 'c5abed25-8e73-4693-b853-0df0f8336736',\n",
       " 'generations': [{'text': ' 프로그래밍 언어', 'tokens': 3}],\n",
       " 'usage': {'prompt_tokens': 7, 'generated_tokens': 3, 'total_tokens': 10}}"
      ]
     },
     "execution_count": 33,
     "metadata": {},
     "output_type": "execute_result"
    }
   ],
   "source": [
    "result"
   ]
  },
  {
   "cell_type": "code",
   "execution_count": 34,
   "id": "46f651db",
   "metadata": {},
   "outputs": [],
   "source": [
    "# 필수 파라미터\n",
    "prompt = \"파이썬이 뭐야?:\"\n",
    "max_tokens = 128 # 긍정/부정=1 요약: 128\n",
    "\n",
    "# 결과 조회\n",
    "result = api.generate(prompt, max_tokens, temperature=0.7, top_p=0.8)"
   ]
  },
  {
   "cell_type": "code",
   "execution_count": 35,
   "id": "b56edb89",
   "metadata": {},
   "outputs": [
    {
     "data": {
      "text/plain": [
       "{'id': '953d139e-885e-41b5-9c54-c95b036201f2',\n",
       " 'generations': [{'text': ' 프로그래밍 언어의 일종으로, 미국에서 개발한 고급언어이다. 1970년대 초 켄 톰슨과 데니스 리치가 처음 개발하였다. 당시에는 PDP-8(PDP 8) 운영 체제가 유닉스 시스템을 사용하고 있었기 때문에 유닉스 환경에서도 실행할 수 있게 만들어야 했는데, 이를 위해 만들어진 것이 바로 델파이로, 이후 1990년대에 이르러 MIT 라이코스 그룹은 웹 애플리케이션 프레임워크를 만드는 회사인 스퀵SQL(Squicheck SQL)을 설립한다. 그리고 이 둘이 합병하여 지금의 아파치를 만든 것이다.\\n----',\n",
       "   'tokens': 128}],\n",
       " 'usage': {'prompt_tokens': 7, 'generated_tokens': 128, 'total_tokens': 135}}"
      ]
     },
     "execution_count": 35,
     "metadata": {},
     "output_type": "execute_result"
    }
   ],
   "source": [
    "result"
   ]
  },
  {
   "cell_type": "code",
   "execution_count": 37,
   "id": "27a0addb",
   "metadata": {},
   "outputs": [],
   "source": [
    "# 정보 추리기\n",
    "prompt = \"\"\"임진왜란(壬辰倭亂)은 1592년(선조 25년) 도요토미 정권이 조선을 침략하면서 발발하여 1598년(선조 31년)까지 이어진 전쟁이다. 또한 임진왜란은 동아시아에 막대한 영향을 끼쳤으며, 두번의 침입이 있어서 제2차 침략은 정유재란이라 따로 부르기도 한다. 또한 이때 조선은 경복궁과 창덕궁 등 2개의 궁궐이 소실되었으며 약 백만명의 인구가 소실되었다.\n",
    "\n",
    "명칭\n",
    "일반적으로 임진년에 일어난 왜의 난리란 뜻으로 지칭되며 그 밖에 조선과 일본 사이에 일어난 전쟁이란 뜻에서 조일전쟁(朝日戰爭), 임진년에 일어난 전쟁이란 뜻에서 임진전쟁(壬辰戰爭), 도자기공들이 일본으로 납치된 후 일본에 도자기 문화가 전파되었다 하여 도자기 전쟁(陶瓷器戰爭)이라고도 한다. 일본에서는 당시 연호를 따서 분로쿠의 역(일본어: 文禄の役 분로쿠노에키[*])이라 하며, 중화인민공화국과 중화민국에서는 당시 명나라 황제였던 만력제의 호를 따 만력조선전쟁(萬曆朝鮮戰爭, 중국어: 萬曆朝鮮之役), 혹은 조선을 도와 왜와 싸웠다 하여 항왜원조(抗倭援朝)라고도 하며, 조선민주주의인민공화국에서는 임진조국전쟁(壬辰祖國戰爭)이라고 한다. 그밖에도 7년간의 전쟁이라 하여 7년 전쟁(七年戰爭)으로도 부른다.\n",
    "\n",
    "임진왜란 때 조선의 왕은?\n",
    "\n",
    "답:\"\"\"\n",
    "max_tokens = 1\n",
    "\n",
    "# 결과 조회\n",
    "result = api.generate(prompt, max_tokens, temperature=0.3)"
   ]
  },
  {
   "cell_type": "code",
   "execution_count": 38,
   "id": "708798e5",
   "metadata": {},
   "outputs": [
    {
     "data": {
      "text/plain": [
       "{'id': '15b2730d-c808-4b51-baeb-43750d043c60',\n",
       " 'generations': [{'text': ' 선조', 'tokens': 1}],\n",
       " 'usage': {'prompt_tokens': 329, 'generated_tokens': 1, 'total_tokens': 330}}"
      ]
     },
     "execution_count": 38,
     "metadata": {},
     "output_type": "execute_result"
    }
   ],
   "source": [
    "result"
   ]
  },
  {
   "cell_type": "code",
   "execution_count": 40,
   "id": "61afd6a4",
   "metadata": {},
   "outputs": [],
   "source": [
    "# 채팅\n",
    "# 필수 파라미터\n",
    "prompt = \"\"\"정보:거주지 서울, 나이 30대, 성별 남자, 자녀 두 명, 전공 인공지능, 말투 친절함\n",
    "정보를 바탕으로 질문에 답하세요.\n",
    "Q:안녕하세요 반갑습니다. 자기소개 부탁드려도 될까요?\n",
    "A:안녕하세요. 저는 서울에 거주하고 있는 30대 남성입니다.\n",
    "Q:오 그렇군요, 결혼은 하셨나요?\n",
    "A:\"\"\"\n",
    "max_tokens = 32\n",
    "\n",
    "# 결과 조회\n",
    "result = api.generate(prompt, max_tokens, temperature=0.3, top_p=0.85)"
   ]
  },
  {
   "cell_type": "code",
   "execution_count": 41,
   "id": "49c93d10",
   "metadata": {},
   "outputs": [
    {
     "data": {
      "text/plain": [
       "{'id': '9c079078-ccdc-4cdf-904f-bb4a76096a24',\n",
       " 'generations': [{'text': '네, 작년에 했어요.\\nQ:결혼을 하신 거군요! 축하드립니다.\\nA:감사합니다.\\nQ:자녀가 몇 살',\n",
       "   'tokens': 32}],\n",
       " 'usage': {'prompt_tokens': 86, 'generated_tokens': 32, 'total_tokens': 118}}"
      ]
     },
     "execution_count": 41,
     "metadata": {},
     "output_type": "execute_result"
    }
   ],
   "source": [
    "result"
   ]
  },
  {
   "cell_type": "code",
   "execution_count": 42,
   "id": "2990d233",
   "metadata": {},
   "outputs": [],
   "source": [
    "# 필수 파라미터\n",
    "prompt = \"파이썬으로 1부터 10까지 세는 for문 생성하는 코드는?:\"\n",
    "max_tokens = 128 # 긍정/부정=1 요약: 128\n",
    "\n",
    "# 결과 조회\n",
    "result = api.generate(prompt, max_tokens, temperature=0.7, top_p=0.8)"
   ]
  },
  {
   "cell_type": "code",
   "execution_count": 43,
   "id": "1973313f",
   "metadata": {},
   "outputs": [
    {
     "data": {
      "text/plain": [
       "{'id': 'd0ce3422-c7e1-48d3-83a6-3fe715016b68',\n",
       " 'generations': [{'text': ' https://blog.naver.com/todshrck/222090165943 파이썬으로 1부터 10까지 세는 for문 만들기 파이썬으로 1부터 10까지 세는 for문을 만드는 방법은 여러가지가 있습니다. 이 중에서 가장 쉬운 방법은 for 문을 사용하여... blog.naver.com \\u200b 파이썬의 문법을 조금 더 공부하고 싶으신 분들은 아래 링크를 참고해주세요! 파이썬 코딩 기초 - 변수, 함수, 배열, 리스트, 딕셔너리, 집합 \\u200b\\u200b안녕하세요~!오늘도 파이썬 코딩에 대한 포스팅입니다~!!',\n",
       "   'tokens': 128}],\n",
       " 'usage': {'prompt_tokens': 18, 'generated_tokens': 128, 'total_tokens': 146}}"
      ]
     },
     "execution_count": 43,
     "metadata": {},
     "output_type": "execute_result"
    }
   ],
   "source": [
    "result"
   ]
  },
  {
   "cell_type": "code",
   "execution_count": 44,
   "id": "827143cb",
   "metadata": {},
   "outputs": [],
   "source": [
    "# 필수 파라미터\n",
    "prompt = \"파이썬으로 덧셈하는 코드\"\n",
    "max_tokens = 128 # 긍정/부정=1 요약: 128\n",
    "\n",
    "# 결과 조회\n",
    "result = api.generate(prompt, max_tokens, temperature=0.7, top_p=0.8)"
   ]
  },
  {
   "cell_type": "code",
   "execution_count": 45,
   "id": "9eaf2915",
   "metadata": {},
   "outputs": [
    {
     "data": {
      "text/plain": [
       "{'id': '88fdd4dd-4b85-4620-af97-9a88fdc6f116',\n",
       " 'generations': [{'text': ' 만들기 (Introduction to Algorithms) by Jin-Ok Kim, Ji Yeon Lee and Sang Seung Lim | Visual C++ 2007.10.29 안녕! 나는 진익이라고 해. 이제부터 여러분들에게 정말 도움이 될만한 내용을 알려주려고 하는데... 이 글은 내가 처음에 배웠던 함수형 프로그래밍의 기초적인 개념과 그 이후에 배운 자료구조와 알고리즘 등을 총정리한 것이다. 물론 여기서 끝나지 않고 더 나아가면 좋겠지만 일단은 이렇게 시작해보자. 사실 이번 편에서 소개할 방법들이',\n",
       "   'tokens': 128}],\n",
       " 'usage': {'prompt_tokens': 7, 'generated_tokens': 128, 'total_tokens': 135}}"
      ]
     },
     "execution_count": 45,
     "metadata": {},
     "output_type": "execute_result"
    }
   ],
   "source": [
    "result"
   ]
  },
  {
   "cell_type": "code",
   "execution_count": null,
   "id": "3220c955",
   "metadata": {},
   "outputs": [],
   "source": []
  }
 ],
 "metadata": {
  "kernelspec": {
   "display_name": "Python 3 (ipykernel)",
   "language": "python",
   "name": "python3"
  },
  "language_info": {
   "codemirror_mode": {
    "name": "ipython",
    "version": 3
   },
   "file_extension": ".py",
   "mimetype": "text/x-python",
   "name": "python",
   "nbconvert_exporter": "python",
   "pygments_lexer": "ipython3",
   "version": "3.10.9"
  }
 },
 "nbformat": 4,
 "nbformat_minor": 5
}
